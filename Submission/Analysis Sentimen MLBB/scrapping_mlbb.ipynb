{
 "cells": [
  {
   "cell_type": "markdown",
   "metadata": {},
   "source": [
    "# **Scrapping Aplikasi Mobile Legends: Bang Bang di Google Playstore**"
   ]
  },
  {
   "cell_type": "markdown",
   "metadata": {},
   "source": [
    "Scraping data dari Google Play Store untuk mengumpulkan informasi penting tentang aplikasi, seperti rating, jumlah ulasan, jumlah unduhan, dan komentar pengguna. Dalam proyek ini, akan melakukan scraping terhadap aplikasi Mobile Legends: Bang Bang menggunakan Google Play Scraper untuk mendapatkan data ulasan pengguna secara otomatis."
   ]
  },
  {
   "cell_type": "markdown",
   "metadata": {},
   "source": [
    "## **Student Information**"
   ]
  },
  {
   "cell_type": "markdown",
   "metadata": {},
   "source": [
    "`Nama: Shendi Teuku Maulana Efendi` <br>\n",
    "`ID Dicoding: shendyeff` <br>"
   ]
  },
  {
   "cell_type": "markdown",
   "metadata": {},
   "source": [
    "## **Prerequisite**"
   ]
  },
  {
   "cell_type": "markdown",
   "metadata": {},
   "source": [
    "Pastikan sudah menginstall library yang dibutuhkan, sebelum menjalankan notebook\n",
    "\n",
    "```\n",
    "pip install google-play-scrapper pandas\n",
    "```"
   ]
  },
  {
   "cell_type": "markdown",
   "metadata": {},
   "source": [
    "## **Import Library**"
   ]
  },
  {
   "cell_type": "code",
   "execution_count": 3,
   "metadata": {},
   "outputs": [],
   "source": [
    "from google_play_scraper import app, reviews, Sort, reviews_all\n",
    "import pandas as pd\n",
    "import csv"
   ]
  },
  {
   "cell_type": "markdown",
   "metadata": {},
   "source": [
    "## **Scrapping**"
   ]
  },
  {
   "cell_type": "code",
   "execution_count": null,
   "metadata": {},
   "outputs": [
    {
     "name": "stdout",
     "output_type": "stream",
     "text": [
      "Memulai scraping ulasan...\n",
      "Scraping selesai!\n"
     ]
    }
   ],
   "source": [
    "import pandas as pd\n",
    "from google_play_scraper import reviews_all, Sort\n",
    "\n",
    "# ID aplikasi MLBB\n",
    "app_id = \"com.mobile.legends\"\n",
    "max_reviews = 10000\n",
    "\n",
    "print(\"Memulai scraping ulasan...\")\n",
    "\n",
    "reviews_data = reviews_all(\n",
    "    app_id,\n",
    "    lang=\"id\",\n",
    "    country=\"id\",\n",
    "    sort=Sort.NEWEST\n",
    ")\n",
    "\n",
    "reviews_data = reviews_data[:max_reviews]\n",
    "\n",
    "filtered_reviews = [\n",
    "    {\n",
    "        \"userName\": r[\"userName\"],\n",
    "        \"content\": r[\"content\"],\n",
    "        \"score\": r[\"score\"],\n",
    "        \"thumbsUpCount\": r[\"thumbsUpCount\"],\n",
    "        \"reviewCreatedVersion\": r.get(\"reviewCreatedVersion\"),\n",
    "        \"at\": r[\"at\"],\n",
    "        \"replyContent\": r.get(\"replyContent\")\n",
    "    }\n",
    "    for r in reviews_data\n",
    "]\n",
    "\n",
    "print(f\"Scraping selesai!\")\n"
   ]
  },
  {
   "cell_type": "markdown",
   "metadata": {},
   "source": [
    "## **Save to CSV**"
   ]
  },
  {
   "cell_type": "code",
   "execution_count": 6,
   "metadata": {},
   "outputs": [
    {
     "name": "stdout",
     "output_type": "stream",
     "text": [
      "10000 data disimpan di 'mlbb_reviews.csv'\n"
     ]
    }
   ],
   "source": [
    "# Simpan ke DataFrame\n",
    "reviews_df = pd.DataFrame(filtered_reviews)\n",
    "\n",
    "# Simpan ke CSV\n",
    "file_name = \"mlbb_reviews.csv\"\n",
    "reviews_df.to_csv(file_name, index=False)\n",
    "\n",
    "print(f\"{len(reviews_df)} data disimpan di '{file_name}'\")"
   ]
  },
  {
   "cell_type": "markdown",
   "metadata": {},
   "source": [
    "## **Read Dataset**"
   ]
  },
  {
   "cell_type": "code",
   "execution_count": 7,
   "metadata": {},
   "outputs": [
    {
     "data": {
      "text/html": [
       "<div>\n",
       "<style scoped>\n",
       "    .dataframe tbody tr th:only-of-type {\n",
       "        vertical-align: middle;\n",
       "    }\n",
       "\n",
       "    .dataframe tbody tr th {\n",
       "        vertical-align: top;\n",
       "    }\n",
       "\n",
       "    .dataframe thead th {\n",
       "        text-align: right;\n",
       "    }\n",
       "</style>\n",
       "<table border=\"1\" class=\"dataframe\">\n",
       "  <thead>\n",
       "    <tr style=\"text-align: right;\">\n",
       "      <th></th>\n",
       "      <th>userName</th>\n",
       "      <th>content</th>\n",
       "      <th>score</th>\n",
       "      <th>thumbsUpCount</th>\n",
       "      <th>reviewCreatedVersion</th>\n",
       "      <th>at</th>\n",
       "      <th>replyContent</th>\n",
       "    </tr>\n",
       "  </thead>\n",
       "  <tbody>\n",
       "    <tr>\n",
       "      <th>0</th>\n",
       "      <td>Pengguna Google</td>\n",
       "      <td>ini game bagus sih tapi tolong ya developer hp...</td>\n",
       "      <td>5</td>\n",
       "      <td>0</td>\n",
       "      <td>1.9.64.10601</td>\n",
       "      <td>2025-03-21 17:55:28</td>\n",
       "      <td>None</td>\n",
       "    </tr>\n",
       "    <tr>\n",
       "      <th>1</th>\n",
       "      <td>Pengguna Google</td>\n",
       "      <td>game burik jangan di mainin</td>\n",
       "      <td>1</td>\n",
       "      <td>0</td>\n",
       "      <td>1.9.64.10601</td>\n",
       "      <td>2025-03-21 17:52:55</td>\n",
       "      <td>None</td>\n",
       "    </tr>\n",
       "    <tr>\n",
       "      <th>2</th>\n",
       "      <td>Pengguna Google</td>\n",
       "      <td>game yg sangat ramah, sangat cocok game ini bu...</td>\n",
       "      <td>5</td>\n",
       "      <td>0</td>\n",
       "      <td>1.9.64.10601</td>\n",
       "      <td>2025-03-21 17:52:36</td>\n",
       "      <td>None</td>\n",
       "    </tr>\n",
       "    <tr>\n",
       "      <th>3</th>\n",
       "      <td>Pengguna Google</td>\n",
       "      <td>kapan skin sanrio liris moonton?</td>\n",
       "      <td>2</td>\n",
       "      <td>0</td>\n",
       "      <td>None</td>\n",
       "      <td>2025-03-21 17:49:17</td>\n",
       "      <td>None</td>\n",
       "    </tr>\n",
       "    <tr>\n",
       "      <th>4</th>\n",
       "      <td>Pengguna Google</td>\n",
       "      <td>sering update jadi rada hampir abis memori hp</td>\n",
       "      <td>4</td>\n",
       "      <td>0</td>\n",
       "      <td>1.9.47.10372</td>\n",
       "      <td>2025-03-21 17:48:47</td>\n",
       "      <td>None</td>\n",
       "    </tr>\n",
       "  </tbody>\n",
       "</table>\n",
       "</div>"
      ],
      "text/plain": [
       "          userName                                            content  score  \\\n",
       "0  Pengguna Google  ini game bagus sih tapi tolong ya developer hp...      5   \n",
       "1  Pengguna Google                        game burik jangan di mainin      1   \n",
       "2  Pengguna Google  game yg sangat ramah, sangat cocok game ini bu...      5   \n",
       "3  Pengguna Google                   kapan skin sanrio liris moonton?      2   \n",
       "4  Pengguna Google      sering update jadi rada hampir abis memori hp      4   \n",
       "\n",
       "   thumbsUpCount reviewCreatedVersion                  at replyContent  \n",
       "0              0         1.9.64.10601 2025-03-21 17:55:28         None  \n",
       "1              0         1.9.64.10601 2025-03-21 17:52:55         None  \n",
       "2              0         1.9.64.10601 2025-03-21 17:52:36         None  \n",
       "3              0                 None 2025-03-21 17:49:17         None  \n",
       "4              0         1.9.47.10372 2025-03-21 17:48:47         None  "
      ]
     },
     "execution_count": 7,
     "metadata": {},
     "output_type": "execute_result"
    }
   ],
   "source": [
    "reviews_df.head()"
   ]
  },
  {
   "cell_type": "code",
   "execution_count": 8,
   "metadata": {},
   "outputs": [
    {
     "name": "stdout",
     "output_type": "stream",
     "text": [
      "<class 'pandas.core.frame.DataFrame'>\n",
      "RangeIndex: 10000 entries, 0 to 9999\n",
      "Data columns (total 7 columns):\n",
      " #   Column                Non-Null Count  Dtype         \n",
      "---  ------                --------------  -----         \n",
      " 0   userName              10000 non-null  object        \n",
      " 1   content               10000 non-null  object        \n",
      " 2   score                 10000 non-null  int64         \n",
      " 3   thumbsUpCount         10000 non-null  int64         \n",
      " 4   reviewCreatedVersion  6615 non-null   object        \n",
      " 5   at                    10000 non-null  datetime64[ns]\n",
      " 6   replyContent          279 non-null    object        \n",
      "dtypes: datetime64[ns](1), int64(2), object(4)\n",
      "memory usage: 547.0+ KB\n"
     ]
    }
   ],
   "source": [
    "reviews_df.info()"
   ]
  }
 ],
 "metadata": {
  "kernelspec": {
   "display_name": "Python 3",
   "language": "python",
   "name": "python3"
  },
  "language_info": {
   "codemirror_mode": {
    "name": "ipython",
    "version": 3
   },
   "file_extension": ".py",
   "mimetype": "text/x-python",
   "name": "python",
   "nbconvert_exporter": "python",
   "pygments_lexer": "ipython3",
   "version": "3.9.15"
  }
 },
 "nbformat": 4,
 "nbformat_minor": 2
}
