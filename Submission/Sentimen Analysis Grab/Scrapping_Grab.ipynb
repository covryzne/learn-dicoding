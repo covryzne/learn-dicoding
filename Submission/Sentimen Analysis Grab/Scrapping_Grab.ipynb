{
  "nbformat": 4,
  "nbformat_minor": 0,
  "metadata": {
    "colab": {
      "provenance": []
    },
    "kernelspec": {
      "name": "python3",
      "display_name": "Python 3"
    },
    "language_info": {
      "name": "python"
    }
  },
  "cells": [
    {
      "cell_type": "markdown",
      "source": [
        "# **Install Libraries**"
      ],
      "metadata": {
        "id": "DUM_SZzZQVjx"
      }
    },
    {
      "cell_type": "code",
      "execution_count": null,
      "metadata": {
        "id": "hFPS84ps8pTL",
        "colab": {
          "base_uri": "https://localhost:8080/"
        },
        "outputId": "b75fe92e-4541-4f01-9641-e0ca76023745"
      },
      "outputs": [
        {
          "output_type": "stream",
          "name": "stdout",
          "text": [
            "Requirement already satisfied: google-play-scraper in /usr/local/lib/python3.10/dist-packages (1.2.7)\n"
          ]
        }
      ],
      "source": [
        "!pip install google-play-scraper"
      ]
    },
    {
      "cell_type": "markdown",
      "source": [
        "# **Scrapping Data**"
      ],
      "metadata": {
        "id": "udYSRa5bSlGJ"
      }
    },
    {
      "cell_type": "code",
      "source": [
        "# Mengimpor pustaka google_play_scraper untuk mengakses ulasan dan informasi aplikasi dari Google Play Store.\n",
        "from google_play_scraper import app, reviews, Sort, reviews_all"
      ],
      "metadata": {
        "id": "sZW7Ug9pWYQC"
      },
      "execution_count": null,
      "outputs": []
    },
    {
      "cell_type": "code",
      "source": [
        "from google_play_scraper import app, reviews_all, Sort\n",
        "\n",
        "# Mendapatkan semua ulasan dari aplikasi Grab\n",
        "reviews_data = reviews_all(\n",
        "    'com.grabtaxi.passenger',  # ID aplikasi Grab\n",
        "    lang='id',                # Bahasa ulasan\n",
        "    country='id',             # Negara\n",
        "    sort=Sort.MOST_RELEVANT,  # Urutan ulasan\n",
        "    count=10000               # Jumlah maksimum ulasan\n",
        ")"
      ],
      "metadata": {
        "id": "3PqhXFEsSp7E"
      },
      "execution_count": null,
      "outputs": []
    },
    {
      "cell_type": "code",
      "source": [
        "# Menyimpan ulasan dalam file CSV\n",
        "import csv\n",
        "\n",
        "with open('grab_reviews.csv', mode='w', newline='', encoding='utf-8') as file:\n",
        "    writer = csv.writer(file)\n",
        "    writer.writerow(['Review'])  # Menulis header kolom\n",
        "    for review in reviews_data:\n",
        "        writer.writerow([review['content']])  # Menulis konten ulasan ke dalam file CSV\n"
      ],
      "metadata": {
        "id": "eWx6lgC6XFQ_"
      },
      "execution_count": null,
      "outputs": []
    },
    {
      "cell_type": "code",
      "source": [
        "import pandas as pd\n",
        "reviews_df = pd.DataFrame(reviews_data)\n",
        "reviews_df.to_csv('grab_reviews.csv', index=False)"
      ],
      "metadata": {
        "id": "G3rN9g6npi62"
      },
      "execution_count": null,
      "outputs": []
    },
    {
      "cell_type": "code",
      "source": [
        "reviews_df.info()"
      ],
      "metadata": {
        "id": "efBtEw4gp8kk",
        "outputId": "735698bb-decc-4776-cc57-03b1786ea67e",
        "colab": {
          "base_uri": "https://localhost:8080/"
        }
      },
      "execution_count": null,
      "outputs": [
        {
          "output_type": "stream",
          "name": "stdout",
          "text": [
            "<class 'pandas.core.frame.DataFrame'>\n",
            "RangeIndex: 180000 entries, 0 to 179999\n",
            "Data columns (total 11 columns):\n",
            " #   Column                Non-Null Count   Dtype         \n",
            "---  ------                --------------   -----         \n",
            " 0   reviewId              180000 non-null  object        \n",
            " 1   userName              180000 non-null  object        \n",
            " 2   userImage             180000 non-null  object        \n",
            " 3   content               180000 non-null  object        \n",
            " 4   score                 180000 non-null  int64         \n",
            " 5   thumbsUpCount         180000 non-null  int64         \n",
            " 6   reviewCreatedVersion  146634 non-null  object        \n",
            " 7   at                    180000 non-null  datetime64[ns]\n",
            " 8   replyContent          41148 non-null   object        \n",
            " 9   repliedAt             41148 non-null   datetime64[ns]\n",
            " 10  appVersion            146634 non-null  object        \n",
            "dtypes: datetime64[ns](2), int64(2), object(7)\n",
            "memory usage: 15.1+ MB\n"
          ]
        }
      ]
    }
  ]
}