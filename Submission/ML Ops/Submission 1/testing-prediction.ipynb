{
 "cells": [
  {
   "cell_type": "code",
   "execution_count": 20,
   "metadata": {},
   "outputs": [],
   "source": [
    "import requests\n",
    "import json\n",
    "import pandas as pd"
   ]
  },
  {
   "cell_type": "code",
   "execution_count": 21,
   "metadata": {},
   "outputs": [],
   "source": [
    "# Fungsi untuk memprediksi spam atau tidak berdasarkan input\n",
    "def predict_spam(email_message):\n",
    "    url = \"http://localhost:8080/v1/models/email-spam-detection-model:predict\"\n",
    "    data_to_predict = {\n",
    "        \"instances\": [\n",
    "            {\n",
    "                \"message_xf\": email_message  # Mengirimkan pesan dengan nama input yang sesuai\n",
    "            }\n",
    "        ]\n",
    "    }\n",
    "\n",
    "    response = requests.post(url, data=json.dumps(data_to_predict), headers={\"content-type\": \"application/json\"})\n",
    "\n",
    "    if response.status_code == 200:\n",
    "        prediction = response.json()\n",
    "        spam_probability = prediction['predictions'][0][0]  # Ambil nilai dari list yang dikembalikan model\n",
    "\n",
    "        # Tentukan apakah spam atau tidak berdasarkan probabilitas\n",
    "        if spam_probability > 0.5:\n",
    "            return \"Spam 🤡\"\n",
    "        else:\n",
    "            return \"Not Spam 🤠\"\n",
    "    else:\n",
    "        return f\"Error dalam request: {response.status_code}\\n{response.text}\""
   ]
  },
  {
   "cell_type": "code",
   "execution_count": 22,
   "metadata": {},
   "outputs": [],
   "source": [
    "# Metode 1: Mengambil pesan dari dataset\n",
    "def predict_from_dataset():\n",
    "    df = pd.read_csv(\"data/email_spam.csv\", encoding='latin-1')\n",
    "\n",
    "    # Ambil pesan pertama sebagai contoh untuk diuji (bisa diubah index-nya)\n",
    "    sample_email = df['message'][9]\n",
    "\n",
    "    print(\"Pesan yang akan diprediksi dari dataset:\")\n",
    "    print(sample_email)\n",
    "    print()  # Baris kosong untuk pemisah\n",
    "\n",
    "    result = predict_spam(sample_email)\n",
    "    print(\"Hasil Prediksi:\", result)"
   ]
  },
  {
   "cell_type": "code",
   "execution_count": 23,
   "metadata": {},
   "outputs": [],
   "source": [
    "# Metode 2: Input manual\n",
    "def predict_from_input():\n",
    "    user_email = input(\"Masukkan pesan email untuk diprediksi: \")\n",
    "\n",
    "    print(\"Pesan yang akan diprediksi:\")\n",
    "    print(user_email)\n",
    "    print()  # Baris kosong untuk pemisah\n",
    "\n",
    "    result = predict_spam(user_email)\n",
    "    print(\"Hasil Prediksi:\", result)"
   ]
  },
  {
   "cell_type": "markdown",
   "metadata": {},
   "source": [
    "## **PREDICT PESAN EMAIL SPAM ATAU TIDAK SPAM**\n",
    "contoh: <br>\n",
    "termasuk `spam`: <br>\n",
    "1. Congratulations! You are the lucky winner of our $1,000,000 sweepstakes! To claim your prize, simply click the link below and enter your details.\n",
    "2. Don’t miss this once-in-a-lifetime opportunity! Hurry, this offer expires in 24 hours.\n",
    "3. Your account has been suspended due to suspicious activity. To restore your account, please click the link below and verify your identity immediately.\n",
    "4. We're offering a limited number of free crypto coins to our most loyal customers. Simply sign up and claim your reward today.\n",
    "5. You are the lucky winner of a $5,000 cash prize! To claim your reward, simply click the link below and provide your payment details for tax purposes.\n",
    "\n",
    "termasuk `no spam`:\n",
    "1. Update your app today to start using this feature, and let us know what you think!\n",
    "2. Let me know what time works for you.\n",
    "3. I hope you’ve been doing well! I was thinking of catching up this weekend. How about we meet at the new coffee shop on Main Street?\n",
    "4. We are excited to invite you to the upcoming Tech Conference 2025 happening on March 15th at the Grand Convention Center. The event will feature keynote speakers, industry leaders, and cutting-edge technology showcases.\n",
    "5. Please RSVP by February 25th. We look forward to seeing you there!"
   ]
  },
  {
   "cell_type": "code",
   "execution_count": 45,
   "metadata": {},
   "outputs": [
    {
     "name": "stdout",
     "output_type": "stream",
     "text": [
      "Pilih metode prediksi:\n",
      "1. Prediksi dari dataset\n",
      "2. Prediksi dengan input manual\n",
      "-------------------------------------\n",
      "Pesan yang akan diprediksi:\n",
      "We're offering a limited number of free crypto coins to our most loyal customers. Simply sign up and claim your reward today.\n",
      "\n",
      "Hasil Prediksi: Spam 🤡\n"
     ]
    }
   ],
   "source": [
    "# Pilihan metode\n",
    "print(\"Pilih metode prediksi:\")\n",
    "print(\"1. Prediksi dari dataset\")\n",
    "print(\"2. Prediksi dengan input manual\")\n",
    "print(\"-------------------------------------\")\n",
    "\n",
    "choice = input(\"Masukkan pilihan (1 atau 2): \")\n",
    "\n",
    "if choice == \"1\":\n",
    "    predict_from_dataset()\n",
    "elif choice == \"2\":\n",
    "    predict_from_input()\n",
    "else:\n",
    "    print(\"Pilihan tidak valid\")"
   ]
  }
 ],
 "metadata": {
  "kernelspec": {
   "display_name": "mlops-subs-1",
   "language": "python",
   "name": "python3"
  },
  "language_info": {
   "codemirror_mode": {
    "name": "ipython",
    "version": 3
   },
   "file_extension": ".py",
   "mimetype": "text/x-python",
   "name": "python",
   "nbconvert_exporter": "python",
   "pygments_lexer": "ipython3",
   "version": "3.9.15"
  }
 },
 "nbformat": 4,
 "nbformat_minor": 2
}
