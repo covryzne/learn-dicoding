{
 "cells": [
  {
   "cell_type": "code",
   "execution_count": 23,
   "metadata": {},
   "outputs": [],
   "source": [
    "import requests\n",
    "import pandas as pd\n",
    "\n",
    "balanced_df = pd.read_csv('.\\data\\\\fake_or_real_news_balanced.csv')\n",
    "random_row = balanced_df.sample(1).iloc[0]"
   ]
  },
  {
   "cell_type": "code",
   "execution_count": 24,
   "metadata": {},
   "outputs": [],
   "source": [
    "data = {\"instances\": [{\"text_xf\": random_row['text']}]}\n",
    "url = \"https://mlops-fake-news-production.up.railway.app/v1/models/fake-news-model:predict\"\n",
    "response = requests.post(url, json=data)"
   ]
  },
  {
   "cell_type": "code",
   "execution_count": 25,
   "metadata": {},
   "outputs": [],
   "source": [
    "prediction = response.json()"
   ]
  },
  {
   "cell_type": "code",
   "execution_count": 26,
   "metadata": {},
   "outputs": [
    {
     "name": "stdout",
     "output_type": "stream",
     "text": [
      "Text: BREAKING: White House Abandons TPP & TTIP Nov 11, 2016 5 0 \n",
      "In a major victory for several nations and millions of people around the world, the White House has announced moments ago that Republican and Democratic leaders in Congress has said that they won’t try to advance the Trans Pacific Partnership as they know a Trump administration will be completely opposed to it. This makes the TPP, a trade agreement that has been protested on a global scale, now effectively dead in the water. As the Wall Street Journal reports : \n",
      "The failure to pass what is by far the biggest trade agreement in more than a decade is abitter defeat for Mr. Obama, whose belated but fervent support for freer trade divided his party and complicated the campaign of Mrs. Clinton. The TPP’s collapse also dents American prestige in the region at a time when China is flexing its economic and military muscle. Protesters in front of the White House. \n",
      "Donald Trump has voiced his resistance to the TPP and laid out in his plan for his first 100 days in office to include saying no to trade deals like the TPP and TTIP. For many, it is believed such trade deals would strongly and negatively impact the workforce in America. \n",
      "In addition to the TPP being dropped by the White House today, the TTIP suffered an effective defeat as well. \n",
      "As reported by Bloomberg , European Union Trade Commissioner Cecilia Malmstrom said that talks between the U.S. and EU would be put on “indefinite hold” because of Trump’s victory in the election. \n",
      "“There will be a natural pause, of course, while we wait for the next administration; then, for quite some time TTIP will probably be in the freezer. Then what happens when it’s defrosted, I think we will need to wait and see. I don’t see the resumption of any TTIP negotiation in quite a long time. Whether it makes sense to have new rounds — well probably not.” \n",
      "The U.S and EU have been working on the TTIP for three years which would have eliminated tariffs on goods, enlarged service markets and bolstered regulatory cooperation. Germany’s Angela Merkel and Barack Obama have both called the TTIP a “policy priority.” \n",
      "As The Guardian has reported , both trade agreements have been clouded in secrecy and even the contents of such deals were not easily allowed to be revealed to Congress: \n",
      "“Yet that doesn’t seem to be the position of the “most transparent administration ever”. While lobbyists are given a free hand to help write the deals, even members of legislative bodies have to jump through absurd hoops just to lay eyes on the document. Draconian restrictions were put on US members of Congress if they wanted to view TPP while it was in negotiation, so much so that they were even threatened with prosecution if they talked about it. And Time magazine just reported on what Katja Kipping, a member of German parliament, had to do to see the latest version of TTIP. This included agreeing to a restricted reading time of just two hours, having a guard breathing down her neck the entire time and not sharing the contents of the agreement with anyone.” \n",
      "Though Donald Trump has voiced strong opposition to these deals, we will now wait and see if he makes good on his words. It appears though that the U.S. and EU have all but given up on the TPP and TTIP. Share the good news! \n",
      "Lance Schuttler graduated from the University of Iowa with a degree in Health Science and does health coaching through his website Orgonlight Health . You can follow the Orgonlight Health facebook page or visit the website for more information and other inspiring articles.\n",
      "Prediksi: Real\n"
     ]
    }
   ],
   "source": [
    "print(f\"Text: {random_row['text']}\")\n",
    "print(f\"Prediksi: {'Fake' if prediction['predictions'][0][0] < 0.5 else 'Real'}\")"
   ]
  }
 ],
 "metadata": {
  "kernelspec": {
   "display_name": "mlops-sub-2",
   "language": "python",
   "name": "python3"
  },
  "language_info": {
   "codemirror_mode": {
    "name": "ipython",
    "version": 3
   },
   "file_extension": ".py",
   "mimetype": "text/x-python",
   "name": "python",
   "nbconvert_exporter": "python",
   "pygments_lexer": "ipython3",
   "version": "3.9.21"
  }
 },
 "nbformat": 4,
 "nbformat_minor": 2
}
